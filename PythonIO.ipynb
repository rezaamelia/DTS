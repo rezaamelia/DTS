{
 "cells": [
  {
   "cell_type": "code",
   "execution_count": 1,
   "metadata": {},
   "outputs": [
    {
     "name": "stdout",
     "output_type": "stream",
     "text": [
      "PythonIO\n"
     ]
    }
   ],
   "source": [
    "print(\"PythonIO\")"
   ]
  },
  {
   "cell_type": "code",
   "execution_count": 5,
   "metadata": {},
   "outputs": [],
   "source": [
    "file = open(\"bukafile.txt\", \"w\") # menuliskan perintah ke file \"bukafile.txt\"\n",
    "file.write(\"Teks Pembuka\\n\")\n",
    "file.write(\"Teks Berikutnya\")\n",
    "file.write(\"writelines\")\n",
    "\n",
    "file.close()"
   ]
  },
  {
   "cell_type": "code",
   "execution_count": 9,
   "metadata": {},
   "outputs": [],
   "source": [
    "#file.writelines(Lines)\n",
    "\n",
    "file = open(\"buatlines.xlsx\", \"w\") # write dalam banyak baris\n",
    "lines = [\"Teks Pembuka \\n\", \"Teks Berikutnya \\n\", \"PythonIO \\n\", \"DTS\"]\n",
    "\n",
    "file.writelines(lines)\n",
    "file.close()"
   ]
  },
  {
   "cell_type": "code",
   "execution_count": 12,
   "metadata": {},
   "outputs": [
    {
     "name": "stdout",
     "output_type": "stream",
     "text": [
      "Daftar Nama Peserta\n"
     ]
    },
    {
     "name": "stdin",
     "output_type": "stream",
     "text": [
      "Nama ke 1:  Rere\n",
      "Nama ke 2:  Amel\n",
      "Nama ke 3:  Faiz\n",
      "Nama ke 4:  Ridho\n",
      "Nama ke 5:  Icha\n"
     ]
    }
   ],
   "source": [
    "# menuliskan data dengan input \n",
    "\n",
    "file = open(\"daftarnama.txt\", \"w\")\n",
    "print(\"Daftar Nama Peserta\")\n",
    "datapeserta = [] # List kosong yang akan ditambahkan dengan append\n",
    "for i in range(5):\n",
    "    nama = input(\"Nama ke %d: \" %(i+1)) # menuliskan nama peserta\n",
    "    file.write(nama + \"\\n\")\n",
    "    datapeserta.append(nama)\n",
    "    \n",
    "file.close()"
   ]
  },
  {
   "cell_type": "code",
   "execution_count": 17,
   "metadata": {},
   "outputs": [
    {
     "name": "stdin",
     "output_type": "stream",
     "text": [
      "1. Nangroe Aceh Darussalam\n",
      "2. Riau\n",
      "3. Kepulauan Riau\n",
      "4. Sumatera Barat\n",
      "5. Sumatera Utara\n",
      "6. Sumatera Selatan\n",
      "7. Lampung\n",
      "8. Jambi\n",
      "9. Bengkulu\n",
      "10. DKI Jakarta\n"
     ]
    }
   ],
   "source": [
    "# menuliskan daftar provinsi dengan input\n",
    "\n",
    "file = open(\"daftarprovinsi.txt\", \"w\")\n",
    "file.write(\"10 Daftar Provinsi di Indonesia \\n\")\n",
    "daftarprovinsi = []\n",
    "for i in range(10):\n",
    "    prov = input(\"%d.\" %(i+1))\n",
    "    file.write(prov + \"\\n\")\n",
    "    daftarprovinsi.append(prov)\n",
    "    \n",
    "file.close()"
   ]
  },
  {
   "cell_type": "code",
   "execution_count": 16,
   "metadata": {},
   "outputs": [
    {
     "name": "stdout",
     "output_type": "stream",
     "text": [
      "Rere\n",
      "Am\n"
     ]
    }
   ],
   "source": [
    "# perintah file.read(jumlahkarakter)\n",
    "\n",
    "file = open(\"daftarnama.txt\", \"r\") # mode akses \"r\" read\n",
    "isifile = file.read(7)\n",
    "print(isifile)\n",
    "\n",
    "file.close()"
   ]
  },
  {
   "cell_type": "code",
   "execution_count": 19,
   "metadata": {},
   "outputs": [
    {
     "name": "stdout",
     "output_type": "stream",
     "text": [
      "Baris 1:  Rere\n",
      "\n",
      "Baris 2:  Amel\n",
      "\n",
      "Baris 3:  Faiz\n",
      "\n",
      "Baris 4:  Ridho\n",
      "\n",
      "Baris 5:  Icha\n",
      "\n"
     ]
    }
   ],
   "source": [
    "# membaca data dengan metode file.readline()\n",
    "\n",
    "file = open(\"daftarnama.txt\", \"r\")\n",
    "# buat perintah membaca readline sebanyak jumlah baris pada teks\n",
    "baris1 = file.readline()\n",
    "baris2 = file.readline()\n",
    "baris3 = file.readline()\n",
    "baris4 = file.readline()\n",
    "baris5 = file.readline()\n",
    "\n",
    "print(\"Baris 1: \", baris1)\n",
    "print(\"Baris 2: \", baris2)\n",
    "print(\"Baris 3: \", baris3)\n",
    "print(\"Baris 4: \", baris4)\n",
    "print(\"Baris 5: \", baris5)\n",
    "\n",
    "file.close()"
   ]
  },
  {
   "cell_type": "code",
   "execution_count": 20,
   "metadata": {},
   "outputs": [
    {
     "name": "stdout",
     "output_type": "stream",
     "text": [
      "Baris ke 0: Rere\n",
      "\n",
      "Baris ke 1: Amel\n",
      "\n",
      "Baris ke 2: Faiz\n",
      "\n",
      "Baris ke 3: Ridho\n",
      "\n",
      "Baris ke 4: Icha\n",
      "\n"
     ]
    }
   ],
   "source": [
    "# perintah readline() tidak efisien --> solusi Looping method\n",
    "\n",
    "file = open(\"daftarnama.txt\", \"r\") #read file\n",
    "i = 0 # indeks i akan dinaikkan (increment)\n",
    "for baris in file:\n",
    "    print(\"Baris ke %d:\" %(i), baris)\n",
    "    i = i + 1 # i += 1\n",
    "    \n",
    "file.close()\n"
   ]
  },
  {
   "cell_type": "code",
   "execution_count": 1,
   "metadata": {},
   "outputs": [
    {
     "name": "stdout",
     "output_type": "stream",
     "text": [
      "Total nilai: 526.00\n",
      "Nilai Rata-rata: 26.30\n"
     ]
    }
   ],
   "source": [
    "# membaca data string\n",
    "file = open(\"numerik.txt\", \"r\")\n",
    "total = 0.0\n",
    "for baris in file:\n",
    "    nilai = float(file.readline()) # konversi teks to float per baris\n",
    "    total = total + nilai # total += nilai\n",
    "    \n",
    "file.close()\n",
    "print(\"Total nilai: %.2f\" %total )\n",
    "print(\"Nilai Rata-rata: %.2f\" %(total/20))"
   ]
  },
  {
   "cell_type": "code",
   "execution_count": 1,
   "metadata": {},
   "outputs": [
    {
     "name": "stdout",
     "output_type": "stream",
     "text": [
      "   ID      name  salary   startDate        dept\n",
      "0   1      Rick  623.30    1/1/2012          IT\n",
      "1   2       Dan  515.20   9/23/2013  Operations\n",
      "2   3  Michelle  611.00  11/15/2014          IT\n",
      "3   4      Ryan  729.00   5/11/2014          HR\n",
      "4   5      Gary  843.25   3/27/2015     Finance\n",
      "5   6      Nina  578.00   5/21/2013          IT\n",
      "6   7     Simon  632.80   7/30/2013  Operations\n",
      "7   8      Guru  722.50   6/17/2014     Finance\n"
     ]
    }
   ],
   "source": [
    "import pandas as pd\n",
    "\n",
    "data = pd.read_csv('inputcsv.csv')\n",
    "print(data)"
   ]
  },
  {
   "cell_type": "code",
   "execution_count": 2,
   "metadata": {},
   "outputs": [
    {
     "name": "stdout",
     "output_type": "stream",
     "text": [
      "0    623.30\n",
      "1    515.20\n",
      "2    611.00\n",
      "3    729.00\n",
      "4    843.25\n",
      "Name: salary, dtype: float64\n"
     ]
    }
   ],
   "source": [
    "data = pd.read_csv('inputcsv.csv')\n",
    "# membaca panel data untuk kolom yang spesifik\n",
    "print(data[0:5]['salary'])"
   ]
  },
  {
   "cell_type": "code",
   "execution_count": 3,
   "metadata": {},
   "outputs": [
    {
     "name": "stdout",
     "output_type": "stream",
     "text": [
      "   salary      name\n",
      "0  623.30      Rick\n",
      "1  515.20       Dan\n",
      "2  611.00  Michelle\n",
      "3  729.00      Ryan\n",
      "4  843.25      Gary\n",
      "5  578.00      Nina\n",
      "6  632.80     Simon\n",
      "7  722.50      Guru\n"
     ]
    }
   ],
   "source": [
    "data = pd.read_csv('inputcsv.csv')\n",
    "# menampilkan semua baris kategori salary dan name\n",
    "print(data.loc[:, ['salary', 'name']])"
   ]
  },
  {
   "cell_type": "code",
   "execution_count": 5,
   "metadata": {},
   "outputs": [
    {
     "name": "stdout",
     "output_type": "stream",
     "text": [
      "   salary  name\n",
      "1   515.2   Dan\n",
      "3   729.0  Ryan\n",
      "5   578.0  Nina\n"
     ]
    }
   ],
   "source": [
    "# menampilkan baris dan kolom yang spesifik\n",
    "data = pd.read_csv('inputcsv.csv')\n",
    "print(data.loc[[1,3,5],['salary', 'name']])"
   ]
  },
  {
   "cell_type": "code",
   "execution_count": 6,
   "metadata": {},
   "outputs": [
    {
     "name": "stdout",
     "output_type": "stream",
     "text": [
      "   salary      name\n",
      "2  611.00  Michelle\n",
      "3  729.00      Ryan\n",
      "4  843.25      Gary\n",
      "5  578.00      Nina\n",
      "6  632.80     Simon\n"
     ]
    }
   ],
   "source": [
    "data = pd.read_csv('inputcsv.csv')\n",
    "print(data.loc[2:6,['salary', 'name']])"
   ]
  },
  {
   "cell_type": "code",
   "execution_count": 7,
   "metadata": {},
   "outputs": [
    {
     "name": "stdout",
     "output_type": "stream",
     "text": [
      "   ID      Name  Salary   StartDate        Dept\n",
      "0   1      Rick  623.30    1/1/2012          IT\n",
      "1   2       Dan  515.20   9/23/2013  Operations\n",
      "2   3  Michelle  611.00  11/15/2014          IT\n",
      "3   4      Ryan  729.00   5/11/2014          HR\n",
      "4   5      Gary  843.25   3/27/2015     Finance\n",
      "5   6      Nina  578.00   5/21/2013          IT\n",
      "6   7     Simon  632.80   7/30/2013  Operations\n",
      "7   8      Guru  722.50   6/17/2014     Finance\n"
     ]
    }
   ],
   "source": [
    "# Membaca data JSON\n",
    "\n",
    "data = pd.read_json('inputjson.json')\n",
    "print(data)"
   ]
  },
  {
   "cell_type": "code",
   "execution_count": 8,
   "metadata": {},
   "outputs": [
    {
     "name": "stdout",
     "output_type": "stream",
     "text": [
      "       Name        Dept\n",
      "2  Michelle          IT\n",
      "4      Gary     Finance\n",
      "6     Simon  Operations\n"
     ]
    }
   ],
   "source": [
    "# membaca baris dan kolom yang spesifik\n",
    "\n",
    "data = pd.read_json('inputjson.json')\n",
    "print(data.loc[[2,4,6], ['Name', 'Dept']])"
   ]
  },
  {
   "cell_type": "code",
   "execution_count": 10,
   "metadata": {},
   "outputs": [
    {
     "name": "stdout",
     "output_type": "stream",
     "text": [
      "{\"ID\":1,\"Name\":\"Rick\",\"Salary\":623.3,\"StartDate\":\"1\\/1\\/2012\",\"Dept\":\"IT\"}\n",
      "{\"ID\":2,\"Name\":\"Dan\",\"Salary\":515.2,\"StartDate\":\"9\\/23\\/2013\",\"Dept\":\"Operations\"}\n",
      "{\"ID\":3,\"Name\":\"Michelle\",\"Salary\":611.0,\"StartDate\":\"11\\/15\\/2014\",\"Dept\":\"IT\"}\n",
      "{\"ID\":4,\"Name\":\"Ryan\",\"Salary\":729.0,\"StartDate\":\"5\\/11\\/2014\",\"Dept\":\"HR\"}\n",
      "{\"ID\":5,\"Name\":\"Gary\",\"Salary\":843.25,\"StartDate\":\"3\\/27\\/2015\",\"Dept\":\"Finance\"}\n",
      "{\"ID\":6,\"Name\":\"Nina\",\"Salary\":578.0,\"StartDate\":\"5\\/21\\/2013\",\"Dept\":\"IT\"}\n",
      "{\"ID\":7,\"Name\":\"Simon\",\"Salary\":632.8,\"StartDate\":\"7\\/30\\/2013\",\"Dept\":\"Operations\"}\n",
      "{\"ID\":8,\"Name\":\"Guru\",\"Salary\":722.5,\"StartDate\":\"6\\/17\\/2014\",\"Dept\":\"Finance\"}\n"
     ]
    }
   ],
   "source": [
    "# membaca file json dengan perintah to_json()\n",
    "\n",
    "data = pd.read_json('inputjson.json')\n",
    "print(data.to_json(orient = 'records', lines = True))"
   ]
  },
  {
   "cell_type": "code",
   "execution_count": 12,
   "metadata": {},
   "outputs": [
    {
     "name": "stdout",
     "output_type": "stream",
     "text": [
      "Series([], dtype: float64)\n"
     ]
    }
   ],
   "source": [
    "# SERIES --> 1D array\n",
    "# DataFrame --> 2D array\n",
    "\n",
    "s = pd.Series()\n",
    "print(s) # output? himpunan kosong"
   ]
  },
  {
   "cell_type": "code",
   "execution_count": 14,
   "metadata": {},
   "outputs": [
    {
     "name": "stdout",
     "output_type": "stream",
     "text": [
      "['a' 'b' 'c' 'd' 'e']\n",
      "0    a\n",
      "1    b\n",
      "2    c\n",
      "3    d\n",
      "4    e\n",
      "dtype: object\n"
     ]
    }
   ],
   "source": [
    "# ndarray --> import numpy as np\n",
    "\n",
    "import numpy as np\n",
    "\n",
    "data = np.array(['a', 'b', 'c', 'd', 'e'])\n",
    "s = pd.Series(data)\n",
    "print(data)\n",
    "print(s)"
   ]
  },
  {
   "cell_type": "code",
   "execution_count": 15,
   "metadata": {},
   "outputs": [
    {
     "name": "stdout",
     "output_type": "stream",
     "text": [
      "10    a\n",
      "20    b\n",
      "30    c\n",
      "40    d\n",
      "50    e\n",
      "dtype: object\n"
     ]
    }
   ],
   "source": [
    "data = np.array(['a', 'b', 'c', 'd', 'e'])\n",
    "s = pd.Series(data, index=[10,20,30,40,50])\n",
    "print(s)"
   ]
  },
  {
   "cell_type": "code",
   "execution_count": 20,
   "metadata": {},
   "outputs": [
    {
     "name": "stdout",
     "output_type": "stream",
     "text": [
      "a    1\n",
      "b    2\n",
      "c    3\n",
      "d    4\n",
      "e    5\n",
      "dtype: int64\n",
      "3\n",
      "5\n",
      "a    1\n",
      "b    2\n",
      "c    3\n",
      "dtype: int64\n",
      "c    3\n",
      "d    4\n",
      "e    5\n",
      "dtype: int64\n",
      "b    2\n",
      "d    4\n",
      "dtype: int64\n",
      "5\n",
      "c    3\n",
      "d    4\n",
      "e    5\n",
      "dtype: int64\n"
     ]
    }
   ],
   "source": [
    "# mengakses data dari Series menggunakan indexing\n",
    "s= pd.Series([1,2,3,4,5], index = ['a', 'b', 'c', 'd', 'e'])\n",
    "print(s)\n",
    "print(s[2]) #mengakses series dengan index\n",
    "print(s[4])\n",
    "print(s[:3]) # indeks ke 0 s.d 2\n",
    "print(s[2:]) # indeks ke 2 s.d akhir\n",
    "\n",
    "print(s[1::2]) # indeks dari 1 s.d akhir dengan step selisih 2\n",
    "print(s[-1]) # indeks terakhir\n",
    "print(s[-3:]) #mengambil 3 elemen terakhir"
   ]
  },
  {
   "cell_type": "code",
   "execution_count": 24,
   "metadata": {},
   "outputs": [
    {
     "name": "stdout",
     "output_type": "stream",
     "text": [
      "a    1\n",
      "b    2\n",
      "c    3\n",
      "dtype: int64\n",
      "e    5\n",
      "dtype: int64\n"
     ]
    }
   ],
   "source": [
    "# mengambil data menggunakan label (indeks)\n",
    "\n",
    "s= pd.Series([1,2,3,4,5], index = ['a', 'b', 'c', 'd', 'e'])\n",
    "\n",
    "# mengambil multielement\n",
    "print(s[['a', 'b', 'c']])\n",
    "print(s[['e']])"
   ]
  },
  {
   "cell_type": "code",
   "execution_count": 25,
   "metadata": {},
   "outputs": [
    {
     "name": "stdout",
     "output_type": "stream",
     "text": [
      "Empty DataFrame\n",
      "Columns: []\n",
      "Index: []\n"
     ]
    }
   ],
   "source": [
    "# DATAFRAME --> 20 array\n",
    "\n",
    "# s --> series\n",
    "# df --> DataFrame\n",
    "\n",
    "df = pd.DataFrame()\n",
    "print(df) # output? himpunan kosong"
   ]
  },
  {
   "cell_type": "code",
   "execution_count": 26,
   "metadata": {},
   "outputs": [
    {
     "name": "stdout",
     "output_type": "stream",
     "text": [
      "[1, 2, 3, 4, 5]\n",
      "   0\n",
      "0  1\n",
      "1  2\n",
      "2  3\n",
      "3  4\n",
      "4  5\n"
     ]
    }
   ],
   "source": [
    "# Insert list for DataFrame\n",
    "\n",
    "data = [1,2,3,4,5]\n",
    "df = pd.DataFrame(data)\n",
    "print(data) # List\n",
    "print(df) # dataframe (tabel kolom)"
   ]
  },
  {
   "cell_type": "code",
   "execution_count": 27,
   "metadata": {},
   "outputs": [
    {
     "name": "stdout",
     "output_type": "stream",
     "text": [
      "   Nama  Usia\n",
      "0  Rere    21\n",
      "1  Amel    19\n",
      "2   Eza    20\n"
     ]
    }
   ],
   "source": [
    "# membuat tabel dan kolom custom\n",
    "\n",
    "data = [['Rere', 21], ['Amel', 19], ['Eza', 20]] # matriks 3 (baris) x 2 (kolom)\n",
    "df = pd.DataFrame(data, columns = ['Nama', 'Usia']) # membuat header\n",
    "print(df)"
   ]
  },
  {
   "cell_type": "code",
   "execution_count": 29,
   "metadata": {},
   "outputs": [
    {
     "ename": "SyntaxError",
     "evalue": "unexpected EOF while parsing (<ipython-input-29-26fffc74e30c>, line 4)",
     "output_type": "error",
     "traceback": [
      "\u001b[0;36m  File \u001b[0;32m\"<ipython-input-29-26fffc74e30c>\"\u001b[0;36m, line \u001b[0;32m4\u001b[0m\n\u001b[0;31m    print(data.loc [[1,3,5], ['salary', 'startDate']]\u001b[0m\n\u001b[0m                                                     ^\u001b[0m\n\u001b[0;31mSyntaxError\u001b[0m\u001b[0;31m:\u001b[0m unexpected EOF while parsing\n"
     ]
    }
   ],
   "source": [
    "data = pd.read_excel('inputexc.xlsx')\n",
    "# print(data)\n",
    "\n",
    "print(data.loc [[1,3,5], ['salary', 'startDate']]"
   ]
  },
  {
   "cell_type": "code",
   "execution_count": null,
   "metadata": {},
   "outputs": [],
   "source": []
  }
 ],
 "metadata": {
  "kernelspec": {
   "display_name": "Python 3",
   "language": "python",
   "name": "python3"
  },
  "language_info": {
   "codemirror_mode": {
    "name": "ipython",
    "version": 3
   },
   "file_extension": ".py",
   "mimetype": "text/x-python",
   "name": "python",
   "nbconvert_exporter": "python",
   "pygments_lexer": "ipython3",
   "version": "3.7.3"
  }
 },
 "nbformat": 4,
 "nbformat_minor": 4
}
